{
 "cells": [
  {
   "cell_type": "markdown",
   "metadata": {},
   "source": [
    "# Using Amazon SageMaker with Public Datasets\n",
    "\n",
    "__*Clustering Gene Variants into Geographic Populations*__\n",
    "\n",
    "\n",
    "## Introduction\n",
    "\n",
    "Amazon SageMaker allows you to bring powerful machine learning workflows to data that is already in the cloud.  In this example, we will do just that - combining Amazon SageMaker with data from the [1000 Genomes Project] which is hosted by AWS as a [public dataset].  Specifically, we will perform unsupervised learning using Amazon SageMaker's KMeans algorithm to see if we can predict the geographic population for a set of single nucleotide polymorphisms.\n",
    "\n",
    "Single nucleotide polymorphisms or SNPs (pronounced \"snips\") are single base-pair changes to DNA.  DNA is a long chain molecule that is used to store the \"source code\" for all living organisms and is read as a sequence of four letters -- A, T, C, and G -- that are called \"bases\".  SNPs occur when a base in the sequence changes due to environmental causes or random replication errors during cell division in germ cells (eggs and sperm).  Sometimes these changes are harmless, and sometimes they can cause serious diseases.\n",
    "\n",
    "In this notebook we'll use k-means to cluster SNPs found in Chromosomes 1-22 (excluding the sex chromosomes X and Y) across the population represented in the 1000 Genomes dataset.\n",
    "\n",
    "[1000 Genomes Project]: https://aws.amazon.com/1000genomes/\n",
    "[public dataset]: https://aws.amazon.com/public-datasets/"
   ]
  },
  {
   "cell_type": "markdown",
   "metadata": {},
   "source": [
    "## Setup\n",
    "\n",
    "### Data sources\n",
    "We can get variant call data (which describes SNPs, and other kinds of DNA sequence modifications) from the publicly hosted 1000 Genomes dataset on AWS.  We need the \"\\*.vcf\" files corresponding to Chromosomes 1-22 from the 20130502 release of the data."
   ]
  },
  {
   "cell_type": "code",
   "execution_count": 1,
   "metadata": {},
   "outputs": [
    {
     "name": "stdout",
     "output_type": "stream",
     "text": [
      "2015-06-03 19:43:52    1.1 GiB ALL.chr1.phase3_shapeit2_mvncall_integrated_v5a.20130502.genotypes.vcf.gz\r\n",
      "2015-06-03 19:45:05  737.9 MiB ALL.chr10.phase3_shapeit2_mvncall_integrated_v5a.20130502.genotypes.vcf.gz\r\n",
      "2015-06-03 19:43:47  731.5 MiB ALL.chr11.phase3_shapeit2_mvncall_integrated_v5a.20130502.genotypes.vcf.gz\r\n",
      "2015-06-03 19:43:49  706.5 MiB ALL.chr12.phase3_shapeit2_mvncall_integrated_v5a.20130502.genotypes.vcf.gz\r\n",
      "2015-06-03 19:45:08  531.0 MiB ALL.chr13.phase3_shapeit2_mvncall_integrated_v5a.20130502.genotypes.vcf.gz\r\n",
      "2015-06-03 19:44:44  483.1 MiB ALL.chr14.phase3_shapeit2_mvncall_integrated_v5a.20130502.genotypes.vcf.gz\r\n",
      "2015-06-03 19:44:24  436.7 MiB ALL.chr15.phase3_shapeit2_mvncall_integrated_v5a.20130502.genotypes.vcf.gz\r\n",
      "2015-06-03 19:43:46  472.2 MiB ALL.chr16.phase3_shapeit2_mvncall_integrated_v5a.20130502.genotypes.vcf.gz\r\n",
      "2015-06-03 19:43:45  414.5 MiB ALL.chr17.phase3_shapeit2_mvncall_integrated_v5a.20130502.genotypes.vcf.gz\r\n",
      "2015-06-03 19:45:19  416.2 MiB ALL.chr18.phase3_shapeit2_mvncall_integrated_v5a.20130502.genotypes.vcf.gz\r\n",
      "2015-06-03 19:44:10  342.9 MiB ALL.chr19.phase3_shapeit2_mvncall_integrated_v5a.20130502.genotypes.vcf.gz\r\n",
      "2015-06-03 19:44:03    1.2 GiB ALL.chr2.phase3_shapeit2_mvncall_integrated_v5a.20130502.genotypes.vcf.gz\r\n",
      "2015-06-03 19:44:43  325.9 MiB ALL.chr20.phase3_shapeit2_mvncall_integrated_v5a.20130502.genotypes.vcf.gz\r\n",
      "2015-06-03 19:44:34  208.5 MiB ALL.chr21.phase3_shapeit2_mvncall_integrated_v5a.20130502.genotypes.vcf.gz\r\n",
      "2015-06-03 19:44:24  204.5 MiB ALL.chr22.phase3_shapeit2_mvncall_integrated_v5a.20130502.genotypes.vcf.gz\r\n",
      "2015-06-03 19:44:38    1.0 GiB ALL.chr3.phase3_shapeit2_mvncall_integrated_v5a.20130502.genotypes.vcf.gz\r\n",
      "2015-06-03 19:44:15    1.0 GiB ALL.chr4.phase3_shapeit2_mvncall_integrated_v5a.20130502.genotypes.vcf.gz\r\n",
      "2015-06-03 19:44:52  943.4 MiB ALL.chr5.phase3_shapeit2_mvncall_integrated_v5a.20130502.genotypes.vcf.gz\r\n",
      "2015-06-03 19:45:11  953.1 MiB ALL.chr6.phase3_shapeit2_mvncall_integrated_v5a.20130502.genotypes.vcf.gz\r\n",
      "2015-06-03 19:43:49  866.0 MiB ALL.chr7.phase3_shapeit2_mvncall_integrated_v5a.20130502.genotypes.vcf.gz\r\n",
      "2015-06-03 19:43:49  821.3 MiB ALL.chr8.phase3_shapeit2_mvncall_integrated_v5a.20130502.genotypes.vcf.gz\r\n",
      "2015-06-03 19:45:19  641.7 MiB ALL.chr9.phase3_shapeit2_mvncall_integrated_v5a.20130502.genotypes.vcf.gz\r\n"
     ]
    }
   ],
   "source": [
    "!aws s3 ls --human-readable s3://1000genomes/release/20130502/ | grep -P \"chr\\d+.*vcf\\.gz$\""
   ]
  },
  {
   "cell_type": "markdown",
   "metadata": {},
   "source": [
    "Even gz compressed, these files can be over 1GB in size.  They contain a lot of information that we're not going to use in this exercise, so we need to do a little filtering.  We'll also need to some transformation of the data so that it can be fed to the Amazon Algorithm for K-Means clustering.\n",
    "\n",
    "For each chromosome's VCF we'll do the following:\n",
    "\n",
    "1. select biallelic SNPs with a frequency of 30% using a tool called [bcftools] (v1.9)\n",
    "2. select the first 100 positional SNPs and export a CSV file with a `python` script\n",
    "\n",
    "We can do the above in a scalable and parallel fashion using AWS Batch.  Each of the above steps has been containerized such that they can read and write data __*directly on S3*__.  This is ideal for cases common in genomics where the source and output data can be very large and infeasible to transfer.\n",
    "\n",
    "[bcftools]: http://samtools.github.io/bcftools/"
   ]
  },
  {
   "cell_type": "markdown",
   "metadata": {},
   "source": [
    "In the interest of time, we've already done the heavy lifting here"
   ]
  },
  {
   "cell_type": "code",
   "execution_count": 2,
   "metadata": {},
   "outputs": [
    {
     "name": "stdout",
     "output_type": "stream",
     "text": [
      "2018-11-21 17:20:39     522126 chr1.freq30.biallelic.snps.first100.csv\r\n",
      "2018-11-21 17:20:39     522185 chr10.freq30.biallelic.snps.first100.csv\r\n",
      "2018-11-21 17:20:40     522241 chr11.freq30.biallelic.snps.first100.csv\r\n",
      "2018-11-21 17:20:41     522209 chr12.freq30.biallelic.snps.first100.csv\r\n",
      "2018-11-21 17:20:42     522441 chr13.freq30.biallelic.snps.first100.csv\r\n",
      "2018-11-21 17:20:44     522441 chr14.freq30.biallelic.snps.first100.csv\r\n",
      "2018-11-21 17:20:44     522441 chr15.freq30.biallelic.snps.first100.csv\r\n",
      "2018-11-21 17:20:45     522214 chr16.freq30.biallelic.snps.first100.csv\r\n",
      "2018-11-21 17:20:46     522121 chr17.freq30.biallelic.snps.first100.csv\r\n",
      "2018-11-21 17:20:47     522180 chr18.freq30.biallelic.snps.first100.csv\r\n",
      "2018-11-21 17:20:49     522240 chr19.freq30.biallelic.snps.first100.csv\r\n",
      "2018-11-21 17:20:49     522122 chr2.freq30.biallelic.snps.first100.csv\r\n",
      "2018-11-21 17:20:49     522223 chr20.freq30.biallelic.snps.first100.csv\r\n",
      "2018-11-21 17:20:51     522341 chr21.freq30.biallelic.snps.first100.csv\r\n",
      "2018-11-21 17:20:52     522441 chr22.freq30.biallelic.snps.first100.csv\r\n",
      "2018-11-21 17:20:52     522090 chr3.freq30.biallelic.snps.first100.csv\r\n",
      "2018-11-21 17:20:53     522063 chr4.freq30.biallelic.snps.first100.csv\r\n",
      "2018-11-21 17:20:55     522098 chr5.freq30.biallelic.snps.first100.csv\r\n",
      "2018-11-21 17:20:56     522141 chr6.freq30.biallelic.snps.first100.csv\r\n",
      "2018-11-21 17:20:57     522041 chr7.freq30.biallelic.snps.first100.csv\r\n",
      "2018-11-21 17:20:57     522124 chr8.freq30.biallelic.snps.first100.csv\r\n",
      "2018-11-21 17:20:59     522061 chr9.freq30.biallelic.snps.first100.csv\r\n"
     ]
    }
   ],
   "source": [
    "!aws s3 ls s3://reinvent-2018-wps201/data/ | grep -P \"chr\\d+.*freq30.*csv\""
   ]
  },
  {
   "cell_type": "markdown",
   "metadata": {},
   "source": [
    "#### For the curious\n",
    "if you want to give it a try on your own, the `submit_jobs.py` script found with this notebook will execute the Batch jobs needed and output the data to your own S3 bucket.  Simply open a terminal via Jupyter and run the following:\n",
    "\n",
    "```\n",
    "$ cd ~/SageMaker/wps201\n",
    "$ python ./submit_jobs.py\n",
    "```"
   ]
  },
  {
   "cell_type": "markdown",
   "metadata": {},
   "source": [
    "## The Modeling Problem"
   ]
  },
  {
   "cell_type": "markdown",
   "metadata": {},
   "source": [
    "### Data Background\n",
    "\n",
    "The data comes from human genome sequences.  Humans have 23 pairs of chromosomes, and hence are \"diploid\" - meaning they should have two copies of any given DNA sequence (with a couple exceptions - e.g. genes in the XY chromosomes).\n",
    "\n",
    "A variant in a copy of a DNA sequence is called an \"allele\".  At minimum, there is at least one allele - the DNA sequence that matches the human reference genome.  Alleles that do not match the reference are called \"alternates\".\n",
    "\n",
    "A genotype is a combination of variants for a DNA sequence position, over all copies.  For example, let's say that the reference for a DNA position is 'A', and a variant for the position is 'T'.  The possible genotypes for this position would be:\n",
    "\n",
    "* A/A = REF / REF - \"homozygous\" for the reference\n",
    "* A/T = REF / ALT - \"heterozygous\"\n",
    "* T/A = ALT / REF - \"heterozygous\"\n",
    "* T/T = ALT / ALT - \"homozygous\" for the alternate\n",
    "\n",
    "Typical genotype calls use integer IDs to represent the REF and ALT alleles, with REF always being '0'.  Alternative alleles start at '1' and count up to the total number of alternative alleles for the variant.  So the possible genotypes for the example above would be:\n",
    "\n",
    "* 0 / 0\n",
    "* 0 / 1\n",
    "* 1 / 0\n",
    "* 1 / 1\n",
    "\n",
    "In cases where there is more than one alternate allele, you might see genotypes like '0 / 2' or '1 / 2'.\n",
    "\n",
    "In the CSV files above, the filtered genotypes have been converted to numerical values to make them compatible with machine learning algorithms.\n",
    "\n",
    "In this case there are three distinct values that correspond to the number of alternate allel copies a sample sequence has.\n",
    "\n",
    "* 0 / 0 = 0\n",
    "* 0 / 1 = 1\n",
    "* 1 / 0 = 1\n",
    "* 1 / 1 = 2\n"
   ]
  },
  {
   "cell_type": "markdown",
   "metadata": {},
   "source": [
    "\n",
    "### Feature selection\n",
    "For this modeling exercise, we are going to use a \"variant ID\" - a combination of the chromosome position, the reference allele, and the alternative allele - as labels for SNP features and the numeric genotypes described above as values for K-Means clustering.  In any given chromosome there can be 1000s of SNPs.  We want to reduce this down to a more manageable set, which can improve our clustering performance.\n",
    "\n",
    "The data processing pipeline in AWS Batch has reduced this to a more manageable set of 100 biallelic SNPs per chromosome for chromosomes 1-22, yielding 2200 features to cluster on."
   ]
  },
  {
   "cell_type": "markdown",
   "metadata": {},
   "source": [
    "### Data transformation\n"
   ]
  },
  {
   "cell_type": "markdown",
   "metadata": {},
   "source": [
    "Let's read in the panel metadata to get class labels - the geographic location that each sample originated from. Here we'll use `pandas` to process the metadata panel into classes we can use:"
   ]
  },
  {
   "cell_type": "code",
   "execution_count": 3,
   "metadata": {},
   "outputs": [
    {
     "data": {
      "text/html": [
       "<div>\n",
       "<style scoped>\n",
       "    .dataframe tbody tr th:only-of-type {\n",
       "        vertical-align: middle;\n",
       "    }\n",
       "\n",
       "    .dataframe tbody tr th {\n",
       "        vertical-align: top;\n",
       "    }\n",
       "\n",
       "    .dataframe thead th {\n",
       "        text-align: right;\n",
       "    }\n",
       "</style>\n",
       "<table border=\"1\" class=\"dataframe\">\n",
       "  <thead>\n",
       "    <tr style=\"text-align: right;\">\n",
       "      <th></th>\n",
       "      <th>sample</th>\n",
       "      <th>pop</th>\n",
       "      <th>super_pop</th>\n",
       "    </tr>\n",
       "  </thead>\n",
       "  <tbody>\n",
       "    <tr>\n",
       "      <th>766</th>\n",
       "      <td>HG02058</td>\n",
       "      <td>KHV</td>\n",
       "      <td>EAS</td>\n",
       "    </tr>\n",
       "    <tr>\n",
       "      <th>1111</th>\n",
       "      <td>HG02878</td>\n",
       "      <td>GWD</td>\n",
       "      <td>AFR</td>\n",
       "    </tr>\n",
       "    <tr>\n",
       "      <th>826</th>\n",
       "      <td>HG02178</td>\n",
       "      <td>CDX</td>\n",
       "      <td>EAS</td>\n",
       "    </tr>\n",
       "    <tr>\n",
       "      <th>1015</th>\n",
       "      <td>HG02634</td>\n",
       "      <td>GWD</td>\n",
       "      <td>AFR</td>\n",
       "    </tr>\n",
       "    <tr>\n",
       "      <th>174</th>\n",
       "      <td>HG00372</td>\n",
       "      <td>FIN</td>\n",
       "      <td>EUR</td>\n",
       "    </tr>\n",
       "    <tr>\n",
       "      <th>624</th>\n",
       "      <td>HG01801</td>\n",
       "      <td>CDX</td>\n",
       "      <td>EAS</td>\n",
       "    </tr>\n",
       "    <tr>\n",
       "      <th>55</th>\n",
       "      <td>HG00171</td>\n",
       "      <td>FIN</td>\n",
       "      <td>EUR</td>\n",
       "    </tr>\n",
       "    <tr>\n",
       "      <th>302</th>\n",
       "      <td>HG00739</td>\n",
       "      <td>PUR</td>\n",
       "      <td>AMR</td>\n",
       "    </tr>\n",
       "    <tr>\n",
       "      <th>2375</th>\n",
       "      <td>NA20798</td>\n",
       "      <td>TSI</td>\n",
       "      <td>EUR</td>\n",
       "    </tr>\n",
       "    <tr>\n",
       "      <th>1255</th>\n",
       "      <td>HG03279</td>\n",
       "      <td>ESN</td>\n",
       "      <td>AFR</td>\n",
       "    </tr>\n",
       "  </tbody>\n",
       "</table>\n",
       "</div>"
      ],
      "text/plain": [
       "       sample  pop super_pop\n",
       "766   HG02058  KHV       EAS\n",
       "1111  HG02878  GWD       AFR\n",
       "826   HG02178  CDX       EAS\n",
       "1015  HG02634  GWD       AFR\n",
       "174   HG00372  FIN       EUR\n",
       "624   HG01801  CDX       EAS\n",
       "55    HG00171  FIN       EUR\n",
       "302   HG00739  PUR       AMR\n",
       "2375  NA20798  TSI       EUR\n",
       "1255  HG03279  ESN       AFR"
      ]
     },
     "execution_count": 3,
     "metadata": {},
     "output_type": "execute_result"
    }
   ],
   "source": [
    "import pandas as pd\n",
    "\n",
    "# pandas can read data directly from S3!\n",
    "classes = pd.read_table(\n",
    "    's3://1000genomes/release/20130502/integrated_call_samples_v3.20130502.ALL.panel', \n",
    "    usecols=['sample', 'pop', 'super_pop']\n",
    ")\n",
    "classes.sample(10)"
   ]
  },
  {
   "cell_type": "markdown",
   "metadata": {},
   "source": [
    "Let's see how the data is distributed across each of the populations and super populations:"
   ]
  },
  {
   "cell_type": "code",
   "execution_count": 4,
   "metadata": {
    "scrolled": true
   },
   "outputs": [
    {
     "data": {
      "text/plain": [
       "<matplotlib.axes._subplots.AxesSubplot at 0x7f87c0b81f28>"
      ]
     },
     "execution_count": 4,
     "metadata": {},
     "output_type": "execute_result"
    },
    {
     "data": {
      "image/png": "[encoded data removed]",
      "text/plain": [
       "<Figure size 432x288 with 1 Axes>"
      ]
     },
     "metadata": {},
     "output_type": "display_data"
    }
   ],
   "source": [
    "%matplotlib inline\n",
    "classes.groupby('pop').count().reset_index().drop(columns='super_pop').plot.bar('pop')"
   ]
  },
  {
   "cell_type": "code",
   "execution_count": 5,
   "metadata": {},
   "outputs": [
    {
     "data": {
      "text/plain": [
       "<matplotlib.axes._subplots.AxesSubplot at 0x7f87c0a41940>"
      ]
     },
     "execution_count": 5,
     "metadata": {},
     "output_type": "execute_result"
    },
    {
     "data": {
      "image/png": "[encoded data removed]",
      "text/plain": [
       "<Figure size 432x288 with 1 Axes>"
      ]
     },
     "metadata": {},
     "output_type": "display_data"
    }
   ],
   "source": [
    "classes.groupby('super_pop').count().reset_index().drop(columns='pop').plot.bar('super_pop')"
   ]
  },
  {
   "cell_type": "markdown",
   "metadata": {},
   "source": [
    "Based on the charts above, there are 26 reported geographic populations and 5 super-populations in the data.  The distribution of samples across these populations looks reasonable - i.e. each group has roughly the same number of samples."
   ]
  },
  {
   "cell_type": "markdown",
   "metadata": {},
   "source": [
    "Let's now create the data frame to feed into model training. To do this we'll collect the SNP counts for each chromosome from the processing pipeline into one dataframe, and merge it with the population annotations which will be used as labels."
   ]
  },
  {
   "cell_type": "code",
   "execution_count": 6,
   "metadata": {},
   "outputs": [
    {
     "data": {
      "text/html": [
       "<div>\n",
       "<style scoped>\n",
       "    .dataframe tbody tr th:only-of-type {\n",
       "        vertical-align: middle;\n",
       "    }\n",
       "\n",
       "    .dataframe tbody tr th {\n",
       "        vertical-align: top;\n",
       "    }\n",
       "\n",
       "    .dataframe thead th {\n",
       "        text-align: right;\n",
       "    }\n",
       "</style>\n",
       "<table border=\"1\" class=\"dataframe\">\n",
       "  <thead>\n",
       "    <tr style=\"text-align: right;\">\n",
       "      <th></th>\n",
       "      <th>sample</th>\n",
       "      <th>pop</th>\n",
       "      <th>super_pop</th>\n",
       "      <th>1-14930-A-G</th>\n",
       "      <th>1-15211-T-G</th>\n",
       "      <th>1-15820-G-T</th>\n",
       "      <th>1-18849-C-G</th>\n",
       "      <th>1-30923-G-T</th>\n",
       "      <th>1-49298-T-C</th>\n",
       "      <th>1-52238-T-G</th>\n",
       "      <th>...</th>\n",
       "      <th>9-106203-C-T</th>\n",
       "      <th>9-107536-C-T</th>\n",
       "      <th>9-108706-A-G</th>\n",
       "      <th>9-108998-A-G</th>\n",
       "      <th>9-109859-C-T</th>\n",
       "      <th>9-109860-C-G</th>\n",
       "      <th>9-109891-T-A</th>\n",
       "      <th>9-110586-C-G</th>\n",
       "      <th>9-110899-A-G</th>\n",
       "      <th>9-112882-A-G</th>\n",
       "    </tr>\n",
       "  </thead>\n",
       "  <tbody>\n",
       "    <tr>\n",
       "      <th>901</th>\n",
       "      <td>HG02356</td>\n",
       "      <td>CDX</td>\n",
       "      <td>EAS</td>\n",
       "      <td>1</td>\n",
       "      <td>2</td>\n",
       "      <td>2</td>\n",
       "      <td>2</td>\n",
       "      <td>2</td>\n",
       "      <td>2</td>\n",
       "      <td>2</td>\n",
       "      <td>...</td>\n",
       "      <td>1</td>\n",
       "      <td>2</td>\n",
       "      <td>2</td>\n",
       "      <td>2</td>\n",
       "      <td>1</td>\n",
       "      <td>1</td>\n",
       "      <td>2</td>\n",
       "      <td>2</td>\n",
       "      <td>2</td>\n",
       "      <td>2</td>\n",
       "    </tr>\n",
       "    <tr>\n",
       "      <th>201</th>\n",
       "      <td>HG00448</td>\n",
       "      <td>CHS</td>\n",
       "      <td>EAS</td>\n",
       "      <td>2</td>\n",
       "      <td>1</td>\n",
       "      <td>0</td>\n",
       "      <td>2</td>\n",
       "      <td>2</td>\n",
       "      <td>2</td>\n",
       "      <td>2</td>\n",
       "      <td>...</td>\n",
       "      <td>0</td>\n",
       "      <td>0</td>\n",
       "      <td>0</td>\n",
       "      <td>0</td>\n",
       "      <td>0</td>\n",
       "      <td>0</td>\n",
       "      <td>0</td>\n",
       "      <td>0</td>\n",
       "      <td>0</td>\n",
       "      <td>0</td>\n",
       "    </tr>\n",
       "    <tr>\n",
       "      <th>1243</th>\n",
       "      <td>HG03238</td>\n",
       "      <td>PJL</td>\n",
       "      <td>SAS</td>\n",
       "      <td>1</td>\n",
       "      <td>1</td>\n",
       "      <td>1</td>\n",
       "      <td>2</td>\n",
       "      <td>1</td>\n",
       "      <td>2</td>\n",
       "      <td>2</td>\n",
       "      <td>...</td>\n",
       "      <td>1</td>\n",
       "      <td>1</td>\n",
       "      <td>1</td>\n",
       "      <td>1</td>\n",
       "      <td>1</td>\n",
       "      <td>1</td>\n",
       "      <td>1</td>\n",
       "      <td>1</td>\n",
       "      <td>1</td>\n",
       "      <td>1</td>\n",
       "    </tr>\n",
       "    <tr>\n",
       "      <th>1657</th>\n",
       "      <td>NA06985</td>\n",
       "      <td>CEU</td>\n",
       "      <td>EUR</td>\n",
       "      <td>1</td>\n",
       "      <td>1</td>\n",
       "      <td>1</td>\n",
       "      <td>2</td>\n",
       "      <td>2</td>\n",
       "      <td>2</td>\n",
       "      <td>2</td>\n",
       "      <td>...</td>\n",
       "      <td>1</td>\n",
       "      <td>2</td>\n",
       "      <td>1</td>\n",
       "      <td>1</td>\n",
       "      <td>1</td>\n",
       "      <td>1</td>\n",
       "      <td>1</td>\n",
       "      <td>1</td>\n",
       "      <td>2</td>\n",
       "      <td>1</td>\n",
       "    </tr>\n",
       "    <tr>\n",
       "      <th>850</th>\n",
       "      <td>HG02239</td>\n",
       "      <td>IBS</td>\n",
       "      <td>EUR</td>\n",
       "      <td>1</td>\n",
       "      <td>1</td>\n",
       "      <td>1</td>\n",
       "      <td>2</td>\n",
       "      <td>1</td>\n",
       "      <td>2</td>\n",
       "      <td>2</td>\n",
       "      <td>...</td>\n",
       "      <td>1</td>\n",
       "      <td>2</td>\n",
       "      <td>2</td>\n",
       "      <td>1</td>\n",
       "      <td>1</td>\n",
       "      <td>1</td>\n",
       "      <td>1</td>\n",
       "      <td>1</td>\n",
       "      <td>2</td>\n",
       "      <td>2</td>\n",
       "    </tr>\n",
       "    <tr>\n",
       "      <th>853</th>\n",
       "      <td>HG02253</td>\n",
       "      <td>PEL</td>\n",
       "      <td>AMR</td>\n",
       "      <td>1</td>\n",
       "      <td>1</td>\n",
       "      <td>0</td>\n",
       "      <td>2</td>\n",
       "      <td>2</td>\n",
       "      <td>0</td>\n",
       "      <td>2</td>\n",
       "      <td>...</td>\n",
       "      <td>0</td>\n",
       "      <td>0</td>\n",
       "      <td>0</td>\n",
       "      <td>0</td>\n",
       "      <td>1</td>\n",
       "      <td>1</td>\n",
       "      <td>1</td>\n",
       "      <td>1</td>\n",
       "      <td>1</td>\n",
       "      <td>1</td>\n",
       "    </tr>\n",
       "    <tr>\n",
       "      <th>177</th>\n",
       "      <td>HG00376</td>\n",
       "      <td>FIN</td>\n",
       "      <td>EUR</td>\n",
       "      <td>2</td>\n",
       "      <td>2</td>\n",
       "      <td>0</td>\n",
       "      <td>2</td>\n",
       "      <td>2</td>\n",
       "      <td>2</td>\n",
       "      <td>2</td>\n",
       "      <td>...</td>\n",
       "      <td>1</td>\n",
       "      <td>2</td>\n",
       "      <td>1</td>\n",
       "      <td>0</td>\n",
       "      <td>2</td>\n",
       "      <td>2</td>\n",
       "      <td>2</td>\n",
       "      <td>2</td>\n",
       "      <td>2</td>\n",
       "      <td>1</td>\n",
       "    </tr>\n",
       "    <tr>\n",
       "      <th>563</th>\n",
       "      <td>HG01630</td>\n",
       "      <td>IBS</td>\n",
       "      <td>EUR</td>\n",
       "      <td>1</td>\n",
       "      <td>1</td>\n",
       "      <td>1</td>\n",
       "      <td>2</td>\n",
       "      <td>2</td>\n",
       "      <td>2</td>\n",
       "      <td>2</td>\n",
       "      <td>...</td>\n",
       "      <td>1</td>\n",
       "      <td>1</td>\n",
       "      <td>2</td>\n",
       "      <td>2</td>\n",
       "      <td>1</td>\n",
       "      <td>1</td>\n",
       "      <td>1</td>\n",
       "      <td>1</td>\n",
       "      <td>2</td>\n",
       "      <td>2</td>\n",
       "    </tr>\n",
       "    <tr>\n",
       "      <th>937</th>\n",
       "      <td>HG02429</td>\n",
       "      <td>ACB</td>\n",
       "      <td>AFR</td>\n",
       "      <td>1</td>\n",
       "      <td>1</td>\n",
       "      <td>0</td>\n",
       "      <td>2</td>\n",
       "      <td>1</td>\n",
       "      <td>0</td>\n",
       "      <td>2</td>\n",
       "      <td>...</td>\n",
       "      <td>1</td>\n",
       "      <td>2</td>\n",
       "      <td>2</td>\n",
       "      <td>1</td>\n",
       "      <td>1</td>\n",
       "      <td>1</td>\n",
       "      <td>2</td>\n",
       "      <td>2</td>\n",
       "      <td>2</td>\n",
       "      <td>1</td>\n",
       "    </tr>\n",
       "    <tr>\n",
       "      <th>1975</th>\n",
       "      <td>NA19012</td>\n",
       "      <td>JPT</td>\n",
       "      <td>EAS</td>\n",
       "      <td>1</td>\n",
       "      <td>0</td>\n",
       "      <td>2</td>\n",
       "      <td>2</td>\n",
       "      <td>2</td>\n",
       "      <td>1</td>\n",
       "      <td>2</td>\n",
       "      <td>...</td>\n",
       "      <td>1</td>\n",
       "      <td>1</td>\n",
       "      <td>1</td>\n",
       "      <td>1</td>\n",
       "      <td>1</td>\n",
       "      <td>1</td>\n",
       "      <td>1</td>\n",
       "      <td>1</td>\n",
       "      <td>1</td>\n",
       "      <td>1</td>\n",
       "    </tr>\n",
       "  </tbody>\n",
       "</table>\n",
       "<p>10 rows × 2203 columns</p>\n",
       "</div>"
      ],
      "text/plain": [
       "       sample  pop super_pop  1-14930-A-G  1-15211-T-G  1-15820-G-T  \\\n",
       "901   HG02356  CDX       EAS            1            2            2   \n",
       "201   HG00448  CHS       EAS            2            1            0   \n",
       "1243  HG03238  PJL       SAS            1            1            1   \n",
       "1657  NA06985  CEU       EUR            1            1            1   \n",
       "850   HG02239  IBS       EUR            1            1            1   \n",
       "853   HG02253  PEL       AMR            1            1            0   \n",
       "177   HG00376  FIN       EUR            2            2            0   \n",
       "563   HG01630  IBS       EUR            1            1            1   \n",
       "937   HG02429  ACB       AFR            1            1            0   \n",
       "1975  NA19012  JPT       EAS            1            0            2   \n",
       "\n",
       "      1-18849-C-G  1-30923-G-T  1-49298-T-C  1-52238-T-G      ...       \\\n",
       "901             2            2            2            2      ...        \n",
       "201             2            2            2            2      ...        \n",
       "1243            2            1            2            2      ...        \n",
       "1657            2            2            2            2      ...        \n",
       "850             2            1            2            2      ...        \n",
       "853             2            2            0            2      ...        \n",
       "177             2            2            2            2      ...        \n",
       "563             2            2            2            2      ...        \n",
       "937             2            1            0            2      ...        \n",
       "1975            2            2            1            2      ...        \n",
       "\n",
       "      9-106203-C-T  9-107536-C-T  9-108706-A-G  9-108998-A-G  9-109859-C-T  \\\n",
       "901              1             2             2             2             1   \n",
       "201              0             0             0             0             0   \n",
       "1243             1             1             1             1             1   \n",
       "1657             1             2             1             1             1   \n",
       "850              1             2             2             1             1   \n",
       "853              0             0             0             0             1   \n",
       "177              1             2             1             0             2   \n",
       "563              1             1             2             2             1   \n",
       "937              1             2             2             1             1   \n",
       "1975             1             1             1             1             1   \n",
       "\n",
       "      9-109860-C-G  9-109891-T-A  9-110586-C-G  9-110899-A-G  9-112882-A-G  \n",
       "901              1             2             2             2             2  \n",
       "201              0             0             0             0             0  \n",
       "1243             1             1             1             1             1  \n",
       "1657             1             1             1             2             1  \n",
       "850              1             1             1             2             2  \n",
       "853              1             1             1             1             1  \n",
       "177              2             2             2             2             1  \n",
       "563              1             1             1             2             2  \n",
       "937              1             2             2             2             1  \n",
       "1975             1             1             1             1             1  \n",
       "\n",
       "[10 rows x 2203 columns]"
      ]
     },
     "execution_count": 6,
     "metadata": {},
     "output_type": "execute_result"
    }
   ],
   "source": [
    "# read and aggregate SNP data from each chromosome\n",
    "import os\n",
    "import re\n",
    "from functools import reduce\n",
    "\n",
    "import boto3\n",
    "import pandas as pd\n",
    "\n",
    "\n",
    "s3 = boto3.resource('s3')\n",
    "\n",
    "bucket_name = 'reinvent-2018-wps201'\n",
    "prefix = 'data'\n",
    "pattern = 'chr[0-9]+.*?freq30.*first100.*csv'\n",
    "\n",
    "bucket = s3.Bucket(bucket_name)\n",
    "source_files = (\n",
    "    pd.read_csv(s3.Object(bucket_name, o.key).get()['Body'])\n",
    "    for o in bucket.objects.filter(Prefix=prefix)\n",
    "    if re.search(pattern, o.key)\n",
    ")\n",
    "\n",
    "initial_value = next(source_files).set_index('features')\n",
    "\n",
    "result = reduce(lambda x,y: pd.concat((x, y.set_index('features'))), source_files, initial_value)\n",
    "\n",
    "data = result.transpose()\n",
    "data.index.name = 'sample'\n",
    "data.reset_index(inplace=True)\n",
    "\n",
    "data = classes.merge(data, on='sample')\n",
    "data.sample(10)"
   ]
  },
  {
   "cell_type": "markdown",
   "metadata": {},
   "source": [
    "## Training\n",
    "This dataset is small, only 2504 observations, but should give an idea of how to use the built-in KMeans algorithm.\n",
    "\n",
    "To prepare for training, we need to remove all non-numeric values, so below we'll drop the `pop` field from the data and store it as labels we can use later. "
   ]
  },
  {
   "cell_type": "code",
   "execution_count": 7,
   "metadata": {},
   "outputs": [],
   "source": [
    "from math import ceil, floor\n",
    "\n",
    "train_data = data.copy()\n",
    "train_labels = train_data[['sample', 'pop', 'super_pop']].copy().set_index('sample')\n",
    "train_labels['pop'] = pd.Categorical(train_labels['pop'])\n",
    "train_labels['super_pop'] = pd.Categorical(train_labels['super_pop'])\n",
    "train_data = train_data.drop(columns=['pop', 'super_pop']).set_index('sample')"
   ]
  },
  {
   "cell_type": "markdown",
   "metadata": {},
   "source": [
    "Here's the standard setup for SageMaker training using KMeans.\n",
    "\n",
    "Be sure to set the `bucket` name to something you have access to.\n",
    "The fitting process will upload the training data to this bucket for the training instance(s) to access.  Once training is done, a model artifact will be uploaded to the bucket."
   ]
  },
  {
   "cell_type": "code",
   "execution_count": 8,
   "metadata": {},
   "outputs": [
    {
     "name": "stdout",
     "output_type": "stream",
     "text": [
      "arn:aws:iam::763766227043:role/service-role/wps201-IamStack-QIAZ0YG9XQBE-AmazonSageMaker-ExecutionRole\n",
      "training data will be uploaded to: s3://wps201-s3stack-xb42fe9pfjwa-s3bucket-1xgpna0lcpp1k/sagemaker/genome-kmeans/data\n",
      "training artifacts will be uploaded to: s3://wps201-s3stack-xb42fe9pfjwa-s3bucket-1xgpna0lcpp1k/sagemaker/genome-kmeans/output\n"
     ]
    }
   ],
   "source": [
    "from sagemaker import KMeans, get_execution_role, Session\n",
    "\n",
    "session = Session()\n",
    "role = get_execution_role(sagemaker_session=session)\n",
    "bucket = 'wps201-s3stack-xb42fe9pfjwa-s3bucket-1xgpna0lcpp1k'  ## per user bucket here\n",
    "\n",
    "data_location = 's3://{}/sagemaker/genome-kmeans/data'.format(bucket)\n",
    "output_location = 's3://{}/sagemaker/genome-kmeans/output'.format(bucket)\n",
    "\n",
    "print(role)\n",
    "print('training data will be uploaded to: {}'.format(data_location))\n",
    "print('training artifacts will be uploaded to: {}'.format(output_location))"
   ]
  },
  {
   "cell_type": "markdown",
   "metadata": {},
   "source": [
    "K-means clustering algorithms need to have the number of clusters specified upfront.  Some times this is difficult to know beforehand.  In this data, we know that the samples are annotated with 26 populations, and 5 super-populations, but an ideal cluster count could be anywhere between.\n",
    "\n",
    "Often, choosing a cluster count requires scanning a subset of the data and evaluating a clustering metric (i.e. mean square distance of sample to cluster center), and finding the count that is on an \"elbow\" of the resultant curve.\n",
    "\n",
    "In the cloud, we can do this efficiently with the *whole* dataset!"
   ]
  },
  {
   "cell_type": "code",
   "execution_count": 9,
   "metadata": {},
   "outputs": [],
   "source": [
    "n_clusters = range(2, 41)\n",
    "\n",
    "# note:\n",
    "# The service limit 'Number of instances across all training jobs' is 20 Instances\n",
    "# We're queuing up 39 models in this scan, so we'll need to run in two batches\n",
    "\n",
    "models = [\n",
    "    KMeans(\n",
    "        k=k,\n",
    "        role=role,\n",
    "        train_instance_count=1,\n",
    "        train_instance_type='ml.m4.xlarge',\n",
    "        epochs=3,\n",
    "        center_factor=4,\n",
    "        output_path=output_location,\n",
    "        data_location=data_location)\n",
    "    for k in n_clusters]"
   ]
  },
  {
   "cell_type": "code",
   "execution_count": 13,
   "metadata": {},
   "outputs": [
    {
     "name": "stderr",
     "output_type": "stream",
     "text": [
      "INFO:sagemaker:Creating training-job with name: kmeans-2018-11-27-23-05-51-434726\n",
      "INFO:sagemaker:Creating training-job with name: kmeans-2018-11-27-23-05-53-246971\n",
      "INFO:sagemaker:Creating training-job with name: kmeans-2018-11-27-23-05-56-231498\n",
      "INFO:sagemaker:Creating training-job with name: kmeans-2018-11-27-23-05-58-789342\n",
      "INFO:sagemaker:Creating training-job with name: kmeans-2018-11-27-23-06-00-629661\n",
      "INFO:sagemaker:Creating training-job with name: kmeans-2018-11-27-23-06-02-372601\n",
      "INFO:sagemaker:Creating training-job with name: kmeans-2018-11-27-23-06-04-612111\n",
      "INFO:sagemaker:Creating training-job with name: kmeans-2018-11-27-23-06-06-210605\n",
      "INFO:sagemaker:Creating training-job with name: kmeans-2018-11-27-23-06-07-998845\n",
      "INFO:sagemaker:Creating training-job with name: kmeans-2018-11-27-23-06-09-553540\n"
     ]
    },
    {
     "name": "stdout",
     "output_type": "stream",
     "text": [
      "Waiting for batch 0:\n",
      "......................"
     ]
    },
    {
     "name": "stderr",
     "output_type": "stream",
     "text": [
      "INFO:sagemaker:Creating training-job with name: kmeans-2018-11-27-23-09-53-352140\n",
      "INFO:sagemaker:Creating training-job with name: kmeans-2018-11-27-23-09-54-989336\n",
      "INFO:sagemaker:Creating training-job with name: kmeans-2018-11-27-23-10-00-691814\n",
      "INFO:sagemaker:Creating training-job with name: kmeans-2018-11-27-23-10-02-825892\n",
      "INFO:sagemaker:Creating training-job with name: kmeans-2018-11-27-23-10-04-453925\n",
      "INFO:sagemaker:Creating training-job with name: kmeans-2018-11-27-23-10-06-185184\n",
      "INFO:sagemaker:Creating training-job with name: kmeans-2018-11-27-23-10-07-862326\n",
      "INFO:sagemaker:Creating training-job with name: kmeans-2018-11-27-23-10-09-625716\n",
      "INFO:sagemaker:Creating training-job with name: kmeans-2018-11-27-23-10-11-333647\n",
      "INFO:sagemaker:Creating training-job with name: kmeans-2018-11-27-23-10-13-401861\n"
     ]
    },
    {
     "name": "stdout",
     "output_type": "stream",
     "text": [
      "Waiting for batch 1:\n",
      "......................."
     ]
    },
    {
     "name": "stderr",
     "output_type": "stream",
     "text": [
      "INFO:sagemaker:Creating training-job with name: kmeans-2018-11-27-23-14-07-572328\n",
      "INFO:sagemaker:Creating training-job with name: kmeans-2018-11-27-23-14-09-235080\n",
      "INFO:sagemaker:Creating training-job with name: kmeans-2018-11-27-23-14-11-661325\n",
      "INFO:sagemaker:Creating training-job with name: kmeans-2018-11-27-23-14-14-273692\n",
      "INFO:sagemaker:Creating training-job with name: kmeans-2018-11-27-23-14-15-880069\n",
      "INFO:sagemaker:Creating training-job with name: kmeans-2018-11-27-23-14-17-550344\n",
      "INFO:sagemaker:Creating training-job with name: kmeans-2018-11-27-23-14-19-092000\n",
      "INFO:sagemaker:Creating training-job with name: kmeans-2018-11-27-23-14-21-792440\n",
      "INFO:sagemaker:Creating training-job with name: kmeans-2018-11-27-23-14-23-833676\n",
      "INFO:sagemaker:Creating training-job with name: kmeans-2018-11-27-23-14-27-454628\n"
     ]
    },
    {
     "name": "stdout",
     "output_type": "stream",
     "text": [
      "Waiting for batch 2:\n",
      "......................."
     ]
    },
    {
     "name": "stderr",
     "output_type": "stream",
     "text": [
      "INFO:sagemaker:Creating training-job with name: kmeans-2018-11-27-23-18-20-895866\n",
      "INFO:sagemaker:Creating training-job with name: kmeans-2018-11-27-23-18-22-714583\n",
      "INFO:sagemaker:Creating training-job with name: kmeans-2018-11-27-23-18-26-587094\n",
      "INFO:sagemaker:Creating training-job with name: kmeans-2018-11-27-23-18-28-302402\n",
      "INFO:sagemaker:Creating training-job with name: kmeans-2018-11-27-23-18-30-259032\n",
      "INFO:sagemaker:Creating training-job with name: kmeans-2018-11-27-23-18-32-121253\n",
      "INFO:sagemaker:Creating training-job with name: kmeans-2018-11-27-23-18-33-922746\n",
      "INFO:sagemaker:Creating training-job with name: kmeans-2018-11-27-23-18-35-689063\n",
      "INFO:sagemaker:Creating training-job with name: kmeans-2018-11-27-23-18-38-224064\n"
     ]
    },
    {
     "name": "stdout",
     "output_type": "stream",
     "text": [
      "Waiting for batch 3:\n",
      ".....................\n",
      "Done\n"
     ]
    }
   ],
   "source": [
    "from time import sleep\n",
    "from datetime import datetime\n",
    "\n",
    "import numpy as np\n",
    "\n",
    "\n",
    "def get_training_job_statuses():\n",
    "    return pd.Series([\n",
    "        job['TrainingJobStatus'] \n",
    "        for job in session.sagemaker_client.list_training_jobs(MaxResults=20)['TrainingJobSummaries']\n",
    "    ])\n",
    "\n",
    "\n",
    "def all_jobs_complete():\n",
    "    return all(get_training_job_statuses() == 'Completed')\n",
    "\n",
    "\n",
    "training_jobs = []\n",
    "for batch_num, batch in enumerate(np.array_split(models,4)):\n",
    "    for model in batch:\n",
    "        job_name = 'kmeans-' + datetime.now().strftime('%F-%H-%M-%S-%f')\n",
    "        model.fit(\n",
    "            model.record_set(np.float32(train_data.values)), \n",
    "            wait=False, logs=False, job_name=job_name)\n",
    "    \n",
    "        training_jobs += [job_name]\n",
    "    print('Waiting for batch {}:'.format(batch_num))\n",
    "    while not all_jobs_complete():\n",
    "        print('.', end='')\n",
    "        sleep(10)\n",
    "\n",
    "print('\\nDone')"
   ]
  },
  {
   "cell_type": "markdown",
   "metadata": {},
   "source": [
    "Now lets collect and plot the metrics from our models to see which has a good number of clusters."
   ]
  },
  {
   "cell_type": "code",
   "execution_count": null,
   "metadata": {
    "scrolled": false
   },
   "outputs": [],
   "source": [
    "model_k = [int(model.hyperparameters()['k']) for model in models]\n",
    "model_msd = [\n",
    "    model.training_job_analytics.dataframe().set_index('metric_name').loc['train:msd', 'value']\n",
    "    for model in models\n",
    "]"
   ]
  },
  {
   "cell_type": "code",
   "execution_count": null,
   "metadata": {},
   "outputs": [],
   "source": [
    "from matplotlib.pyplot import plot\n",
    "\n",
    "plot(model_k, model_msd)"
   ]
  },
  {
   "cell_type": "markdown",
   "metadata": {},
   "source": [
    "The plot above shows possible \"good\" cluster counts around 5 and 11.\n"
   ]
  },
  {
   "cell_type": "markdown",
   "metadata": {},
   "source": [
    "## Inference Endpoint Deployment"
   ]
  },
  {
   "cell_type": "markdown",
   "metadata": {},
   "source": [
    "Now, let's deploy the models behind endpoints we can use for predictions.  This process takes about 5-9 mins for each deployment.  Here we'll create endpoints for the models with 5 and 11 clusters."
   ]
  },
  {
   "cell_type": "code",
   "execution_count": null,
   "metadata": {},
   "outputs": [],
   "source": [
    "%%time\n",
    "\n",
    "kmeans_predictor_5 = models[model_k.index(5)].deploy(\n",
    "    initial_instance_count=1,\n",
    "    instance_type='ml.m4.xlarge')\n"
   ]
  },
  {
   "cell_type": "code",
   "execution_count": null,
   "metadata": {},
   "outputs": [],
   "source": [
    "%%time\n",
    "\n",
    "kmeans_predictor_11 = models[model_k.index(11)].deploy(\n",
    "    initial_instance_count=1,\n",
    "    instance_type='ml.m4.xlarge')"
   ]
  },
  {
   "cell_type": "markdown",
   "metadata": {},
   "source": [
    "Let's use our newly deployed inference endpoints to evaluate the models.\n",
    "\n",
    "The predictors will return a results object from which we can extract the cluster assignments for each sample.  We can pass the original training data into a predictor to get cluster assignments for each sample.  To be performant, we'll pass the data to an inference endpoint in batches."
   ]
  },
  {
   "cell_type": "code",
   "execution_count": null,
   "metadata": {},
   "outputs": [],
   "source": [
    "from itertools import chain, zip_longest\n",
    "\n",
    "\n",
    "def chunk(iterable, chunk_size, fillvalue=None):\n",
    "    return zip_longest(*[iter(iterable)]*chunk_size, fillvalue=fillvalue)\n",
    "\n",
    "\n",
    "def get_clusters(predictor, train_data, batch_size=200):\n",
    "    res = [\n",
    "        predictor.predict(\n",
    "            np.float32(pd.DataFrame.from_records([\n",
    "                rec for rec in record \n",
    "                if rec is not None\n",
    "            ]).drop(columns=0))\n",
    "        ) \n",
    "        for record in chunk(train_data.to_records(), batch_size)\n",
    "    ]\n",
    "\n",
    "    result = list(chain(*res))\n",
    "    clusters = np.int0([r.label['closest_cluster'].float32_tensor.values[0] for r in result])\n",
    "    \n",
    "    return clusters, result"
   ]
  },
  {
   "cell_type": "code",
   "execution_count": null,
   "metadata": {},
   "outputs": [],
   "source": [
    "clusters_5, result_5 = get_clusters(kmeans_predictor_5, train_data)\n",
    "clusters_11, result_11 = get_clusters(kmeans_predictor_11, train_data)"
   ]
  },
  {
   "cell_type": "markdown",
   "metadata": {},
   "source": [
    "Let's see how these predicted clusters map to the real classes"
   ]
  },
  {
   "cell_type": "code",
   "execution_count": null,
   "metadata": {},
   "outputs": [],
   "source": [
    "pd.crosstab(\n",
    "    train_labels['pop'], \n",
    "    columns=clusters_5, \n",
    "    colnames=['cluster']\n",
    ").reset_index(\n",
    ").merge(\n",
    "    train_labels.reset_index()[['pop', 'super_pop']].drop_duplicates(), \n",
    "    on='pop'\n",
    ").groupby(\n",
    "    'super_pop'\n",
    ").sum()"
   ]
  },
  {
   "cell_type": "code",
   "execution_count": null,
   "metadata": {},
   "outputs": [],
   "source": [
    "pd.crosstab(\n",
    "    train_labels['pop'], \n",
    "    columns=clusters_11, \n",
    "    colnames=['cluster']\n",
    ").reset_index(\n",
    ").merge(\n",
    "    train_labels.reset_index()[['pop', 'super_pop']].drop_duplicates(), \n",
    "    on='pop'\n",
    ").groupby(\n",
    "    'super_pop'\n",
    ").sum()"
   ]
  },
  {
   "cell_type": "markdown",
   "metadata": {},
   "source": [
    "From these cross tabulations we see that there are clusters with majority membership in each of our super-populations.  Having more clusters spreads populations out (e.g. AMR and SAS)."
   ]
  },
  {
   "cell_type": "markdown",
   "metadata": {},
   "source": [
    "## Visualizing the results"
   ]
  },
  {
   "cell_type": "markdown",
   "metadata": {},
   "source": [
    "What do the clusters look like visually?  To answer this question, we'll generate a force weighted graph of the clusters and color code them by their original population code.\n",
    "\n",
    "To accomplish this, we'll use the [lightning-viz](http://lightning-viz.org/) package for Python.  If this notebook was created via CloudFormation, the package should already be installed in the environment.  Otherwise, you can run:\n",
    "\n",
    "```\n",
    "!pip install lightning-python\n",
    "```\n",
    "\n",
    "in a new cell before the cell below."
   ]
  },
  {
   "cell_type": "code",
   "execution_count": null,
   "metadata": {
    "scrolled": false
   },
   "outputs": [],
   "source": [
    "from lightning import Lightning\n",
    "\n",
    "lgn = Lightning(ipython=True, local=True)\n",
    "\n",
    "def get_cluster_graph(result, labels):\n",
    "    graph_data = [\n",
    "        {\n",
    "            'cluster': int(r.label['closest_cluster'].float32_tensor.values[0]),\n",
    "            'distance': float(r.label['distance_to_cluster'].float32_tensor.values[0])\n",
    "        }\n",
    "        for r in result\n",
    "    ]\n",
    "\n",
    "    gg = pd.concat(\n",
    "        (labels.reset_index(), \n",
    "         pd.DataFrame(graph_data)),\n",
    "        axis=1\n",
    "    )\n",
    "    gg['code'] = pd.np.NaN  # place holder for population category codes\n",
    "    \n",
    "    centers = sorted(gg['cluster'].unique())\n",
    "\n",
    "    gg = pd.concat(\n",
    "        (pd.DataFrame({  # this dataframe is for the cluster centers\n",
    "            'cluster': centers, \n",
    "            'distance': 0, \n",
    "            'sample': list(map(str, centers)), \n",
    "            'pop': '',\n",
    "            'super_pop': ''\n",
    "        }), gg)).reset_index().drop(columns='index')\n",
    "    gg['code'] = pd.Categorical(gg['super_pop']).codes\n",
    "\n",
    "\n",
    "    # generate the network links and plot\n",
    "    nn = [(r[0], r[1], r[2]) for r in gg.to_records()]\n",
    "    \n",
    "    return nn, gg"
   ]
  },
  {
   "cell_type": "markdown",
   "metadata": {},
   "source": [
    "### Data with 5 Clusters"
   ]
  },
  {
   "cell_type": "code",
   "execution_count": null,
   "metadata": {},
   "outputs": [],
   "source": [
    "nn, gg = get_cluster_graph(result_5, train_labels)\n",
    "lgn.force(nn, group=gg['code'], labels=gg['sample'] + ' ' + gg['pop'] + ':' + gg['super_pop'])"
   ]
  },
  {
   "cell_type": "markdown",
   "metadata": {},
   "source": [
    "### Data with 11 Clusters"
   ]
  },
  {
   "cell_type": "code",
   "execution_count": null,
   "metadata": {},
   "outputs": [],
   "source": [
    "nn, gg = get_cluster_graph(result_11, train_labels)\n",
    "lgn.force(nn, group=gg['code'], labels=gg['sample'] + '\\n' + gg['pop'] + ':' + gg['super_pop'])"
   ]
  },
  {
   "cell_type": "markdown",
   "metadata": {},
   "source": [
    "## Bottom Line\n",
    "\n",
    "The African (AFR) and East Asian (EAS) super-populations produce good clusters.\n",
    "\n",
    "The mixture of populations in the clusters may be interpretted as individuals with mixed ancestry or possibly immigration.  Also, the clustering could be improved further if there was additional dimensionality reduction (e.g. via PCA), more samples, or both."
   ]
  },
  {
   "cell_type": "markdown",
   "metadata": {},
   "source": [
    "### (Optional) Delete the Endpoint(s)\n",
    "If you're ready to be done with this notebook, make sure run the cell below.  This will remove any hosted endpoints you created and avoid any charges from unused resources."
   ]
  },
  {
   "cell_type": "code",
   "execution_count": null,
   "metadata": {},
   "outputs": [],
   "source": [
    "kmeans_predictor_5.delete_endpoint()\n",
    "kmeans_predictor_11.delete_endpoint()"
   ]
  }
 ],
 "metadata": {
  "kernelspec": {
   "display_name": "conda_python3",
   "language": "python",
   "name": "conda_python3"
  },
  "language_info": {
   "codemirror_mode": {
    "name": "ipython",
    "version": 3
   },
   "file_extension": ".py",
   "mimetype": "text/x-python",
   "name": "python",
   "nbconvert_exporter": "python",
   "pygments_lexer": "ipython3",
   "version": "3.6.5"
  }
 },
 "nbformat": 4,
 "nbformat_minor": 2
}
